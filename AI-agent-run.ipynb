{
 "cells": [
  {
   "cell_type": "markdown",
   "id": "32cb9d28-d83a-4fbe-94f3-b79f8a07b005",
   "metadata": {},
   "source": [
    "# AI agent run"
   ]
  },
  {
   "cell_type": "markdown",
   "id": "f06b4dcc-7dba-42f0-9c71-83e68f5a781c",
   "metadata": {},
   "source": [
    "To run the agent in a jupyter notebook we import the main module and launch the UI as follows:"
   ]
  },
  {
   "cell_type": "code",
   "execution_count": null,
   "id": "21757918-bcdf-40ae-8fb1-fc0504d4ac75",
   "metadata": {},
   "outputs": [],
   "source": [
    "import app\n",
    "app.demo.launch()"
   ]
  },
  {
   "cell_type": "markdown",
   "id": "1c5fc91f-8f0f-4f47-b536-7f502d0f63e3",
   "metadata": {},
   "source": [
    "Once we have used the agent, we can then close the launch:"
   ]
  },
  {
   "cell_type": "code",
   "execution_count": null,
   "id": "f367ac1c-e385-4c5e-8508-0fe60b0445e5",
   "metadata": {},
   "outputs": [],
   "source": [
    "app.demo.close()"
   ]
  }
 ],
 "metadata": {
  "kernelspec": {
   "display_name": "Python [conda env:base] *",
   "language": "python",
   "name": "conda-base-py"
  },
  "language_info": {
   "codemirror_mode": {
    "name": "ipython",
    "version": 3
   },
   "file_extension": ".py",
   "mimetype": "text/x-python",
   "name": "python",
   "nbconvert_exporter": "python",
   "pygments_lexer": "ipython3",
   "version": "3.13.5"
  }
 },
 "nbformat": 4,
 "nbformat_minor": 5
}
