{
 "cells": [
  {
   "cell_type": "markdown",
   "id": "32cb9d28-d83a-4fbe-94f3-b79f8a07b005",
   "metadata": {},
   "source": [
    "# AI Agent for Amazon Web"
   ]
  },
  {
   "cell_type": "markdown",
   "id": "6460d5fa-4dc2-4457-93e5-a272b88eba7d",
   "metadata": {},
   "source": [
    "This repository showcases an AI agent created in Langgraph with Gradio user interface. The user interface is a chat interface where the user can type in and/or attach an image and ask questions from the AI agent. Here is a snapshot of the user interface:"
   ]
  },
  {
   "cell_type": "markdown",
   "id": "aa0a3064-615b-4cec-b359-d47d1aefd01b",
   "metadata": {},
   "source": [
    "![title](images/UI.png)"
   ]
  },
  {
   "cell_type": "markdown",
   "id": "3f8a6f2b-d2d8-4dde-8352-ca665084c117",
   "metadata": {},
   "source": [
    "## Agent's tasks:"
   ]
  },
  {
   "cell_type": "markdown",
   "id": "2d20a77b-3792-4cfb-9d1e-fe44b89ade65",
   "metadata": {},
   "source": [
    "The Ai agent is able to perform 3 main tasks as following:\n",
    "1) General chat with the user and answer general questions\n",
    "2) Recommend/Find products based on user's text\n",
    "3) Find products based on user's image"
   ]
  },
  {
   "cell_type": "markdown",
   "id": "e1e5a38c-252a-4e03-9614-9c3fc3702807",
   "metadata": {},
   "source": [
    "## Getting Started:"
   ]
  },
  {
   "cell_type": "markdown",
   "id": "50c9d0b4-dcc4-427b-ab42-2856a73b010d",
   "metadata": {},
   "source": [
    "### Create and set API keys:\n",
    "\n",
    "Here I use OpenAI and Tavily search engine tools within the agent. API keys for these packages are required in `.env` file. To use these packages, you need to create and pass API keys. Sign up and create the keys for [Tavily](https://app.tavily.com/home) and [OpenAI](https://auth.openai.com/create-account). Once you have those keys, you need to add those to the `.env` file as following:"
   ]
  },
  {
   "cell_type": "markdown",
   "id": "b5866fdb-b80e-4910-980e-4547f1450a5e",
   "metadata": {},
   "source": [
    "```OPENAI_API_KEY=\"your-api-key\"```\n",
    "\n",
    "```TAVILY_API_KEY=\"your-api-key\"```"
   ]
  },
  {
   "cell_type": "markdown",
   "id": "22c36e77-7446-495d-817b-65a9359ebf64",
   "metadata": {},
   "source": [
    "### Install the dependencies:\n",
    "The required packages are avilable in the `requirement.txt` file.\n",
    "\n",
    "```pip install -r requirements.txt```"
   ]
  },
  {
   "cell_type": "markdown",
   "id": "cbea7886-3b8f-4960-8ce0-37e5f5cc5454",
   "metadata": {},
   "source": [
    "### Use the AI agent:\n",
    "\n",
    "You can run the jupyter notebook file `Ai-agent-run.ipynb`. The UI is within the jupyter notebook. You can easily use the agent whether within the notebook or by using the generated URL.\n",
    "\n",
    "Alternatively you can run the `app.py`."
   ]
  },
  {
   "cell_type": "markdown",
   "id": "345b3591-2e64-4c19-babe-6224fd16978a",
   "metadata": {},
   "source": [
    "# Overview of the decision makings and the agent's structure"
   ]
  },
  {
   "cell_type": "markdown",
   "id": "6609b494-f64b-401f-96a0-5096aed48165",
   "metadata": {},
   "source": [
    "### Use of open-source packages\n",
    "\n",
    "The AI agent is created using [Python](https://www.python.org/) programming language. This is an open source package with a wide range of libraries for various applications, including machine learning and data science application. Python is advantageous in high performance computing. The contributions of its large global community provide resourceful and up to date libraries and packages for scientific programming and AI. To create the agent I used open source packages [Langchain](https://python.langchain.com/docs/introduction/) and [Langgraph](https://langchain-ai.github.io/langgraph/).\n",
    "\n",
    "### Use of Langgraph for creating the Agent\n",
    "   \n",
    "Langchain is an open-source framework to develop applications based on large language models [langchain website](https://python.langchain.com/docs/introduction/). I selected Langchain platform due to its resourceful documents and guides to learn, wide range of built-in libraries for large language model application and its compatibility with other packages. Although Langchain itself can be used to create a simple agent using their \"Chain\", when adding more complex features and functionalities, such as memory and persistence, Langgraph is advantageous in order to reduce the manual creation of those complex features. [This website](https://www.getzep.com/ai-agents/langgraph-tutorial) compares those two packages. Langgraph's framework was built based upon Langchain. I used Langgraph specifically to create the AI agent. Langgraph supports the developers to describe and control the functions, such as human in the loop, built-in persistence, cyclic graphs, multi-agents and controlled flow in graph structure. These are important factors in creating an agent that can perform well, specially controllability [[1]](https://www.deeplearning.ai/short-courses/ai-agents-in-langgraph/)\n",
    "\n",
    "### Tools for the AI agent\n",
    "To perform the tasks, we need to provide the agent with the proper tools. Here, I assumed that the agent has access to real-time web data specifically from Amazon.ca website for product search, while for answering general questions the agent has access to web data. So I defined two tools from Tavily **Tool1**:  TavilySearchResults and  **Tool2** :  TavilySearch\n",
    "\n",
    "### Structure of the created AI agent\n",
    "The agent is created based on LangGraph's [**reAct**](https://langchain-ai.github.io/langgraph/reference/agents/#langgraph.prebuilt.chat_agent_executor.create_react_agent) implementation, whic is a pre-built graph structure. Here is a visualization of the agent structure:\n",
    "\n",
    "![title](images/agent_struct.png)\n",
    "\n",
    "> Note on Handling memory in the Agent: I used an in-memory checkpointer and pass it to the agent. This enables the agent to remember the conversations and queries and get back to them, if necessary. I created a thread id for the start of the memory.\n",
    "\n",
    "### User Interface\n",
    "For interactive agent and being able to pass image and text data, I created the user interface utilizing open source package [Gradio](https://www.gradio.app/guides/quickstart). Gradio's [`ChatInterface`](https://www.gradio.app/docs/gradio/chatinterface) is a high-level abstraction for creating chatbot UIs. In just a few lines of codes it can create a web-based demo around a chatbot model. Here I created a run_agent function that is passed to Gradio's ChatInterface. The UI can be used within a jupyter notebook.\n",
    "\n",
    ">Note: More information on sharing UI demos and gradio apps using can be found in Gradio's [reference](https://www.gradio.app/guides/sharing-your-app)."
   ]
  },
  {
   "cell_type": "markdown",
   "id": "362436be-3d1c-4358-80ec-652fc16ad8f6",
   "metadata": {},
   "source": [
    "# Agent's documentation\n",
    "More details on the agent's API and codes are provided in `AI-agent-doc.ipynb`."
   ]
  }
 ],
 "metadata": {
  "kernelspec": {
   "display_name": "Python [conda env:base] *",
   "language": "python",
   "name": "conda-base-py"
  },
  "language_info": {
   "codemirror_mode": {
    "name": "ipython",
    "version": 3
   },
   "file_extension": ".py",
   "mimetype": "text/x-python",
   "name": "python",
   "nbconvert_exporter": "python",
   "pygments_lexer": "ipython3",
   "version": "3.13.5"
  }
 },
 "nbformat": 4,
 "nbformat_minor": 5
}
